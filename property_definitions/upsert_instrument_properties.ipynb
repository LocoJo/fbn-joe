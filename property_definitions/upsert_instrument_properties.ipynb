{
 "cells": [
  {
   "cell_type": "code",
   "execution_count": 11,
   "metadata": {},
   "outputs": [
    {
     "name": "stdout",
     "output_type": "stream",
     "text": [
      "hello\n"
     ]
    },
    {
     "ename": "ValueError",
     "evalue": "The fields ['api_url', 'password', 'username', 'client_id', 'client_secret', 'token_url'] on the ApiConfiguration are set to None, please ensure that you have provided them directly, via a secrets file or environment variables",
     "output_type": "error",
     "traceback": [
      "\u001b[1;31m---------------------------------------------------------------------------\u001b[0m",
      "\u001b[1;31mValueError\u001b[0m                                Traceback (most recent call last)",
      "Cell \u001b[1;32mIn[11], line 38\u001b[0m\n\u001b[0;32m     35\u001b[0m \u001b[38;5;28;01mif\u001b[39;00m secrets_path \u001b[38;5;129;01mis\u001b[39;00m \u001b[38;5;28;01mNone\u001b[39;00m:\n\u001b[0;32m     36\u001b[0m     secrets_path \u001b[38;5;241m=\u001b[39m os\u001b[38;5;241m.\u001b[39mpath\u001b[38;5;241m.\u001b[39mjoin(os\u001b[38;5;241m.\u001b[39mpath\u001b[38;5;241m.\u001b[39mdirname(os\u001b[38;5;241m.\u001b[39mgetcwd()), \u001b[38;5;124m\"\u001b[39m\u001b[38;5;124msecrets.json\u001b[39m\u001b[38;5;124m\"\u001b[39m)\n\u001b[1;32m---> 38\u001b[0m api_factory \u001b[38;5;241m=\u001b[39m \u001b[43mApiClientFactory\u001b[49m\u001b[43m(\u001b[49m\n\u001b[0;32m     39\u001b[0m \u001b[43m    \u001b[49m\u001b[43mtoken\u001b[49m\u001b[38;5;241;43m=\u001b[39;49m\u001b[43mRefreshingToken\u001b[49m\u001b[43m(\u001b[49m\u001b[43m)\u001b[49m\u001b[43m,\u001b[49m\n\u001b[0;32m     40\u001b[0m \u001b[43m    \u001b[49m\u001b[43mapi_secrets_filename\u001b[49m\u001b[38;5;241;43m=\u001b[39;49m\u001b[43msecrets_path\u001b[49m\u001b[43m,\u001b[49m\n\u001b[0;32m     41\u001b[0m \u001b[43m    \u001b[49m\u001b[43mapp_name\u001b[49m\u001b[38;5;241;43m=\u001b[39;49m\u001b[38;5;124;43m\"\u001b[39;49m\u001b[38;5;124;43mVSCode\u001b[39;49m\u001b[38;5;124;43m\"\u001b[39;49m\n\u001b[0;32m     42\u001b[0m \u001b[43m)\u001b[49m\n\u001b[0;32m     44\u001b[0m \u001b[38;5;28mprint\u001b[39m(\u001b[38;5;124m'\u001b[39m\u001b[38;5;124mLUSID Environment Initialised\u001b[39m\u001b[38;5;124m'\u001b[39m)\n\u001b[0;32m     45\u001b[0m \u001b[38;5;28mprint\u001b[39m(\u001b[38;5;124m'\u001b[39m\u001b[38;5;124mAPI Version: \u001b[39m\u001b[38;5;124m'\u001b[39m, api_factory\u001b[38;5;241m.\u001b[39mbuild(\n\u001b[0;32m     46\u001b[0m     la\u001b[38;5;241m.\u001b[39mApplicationMetadataApi)\u001b[38;5;241m.\u001b[39mget_lusid_versions()\u001b[38;5;241m.\u001b[39mbuild_version)\n",
      "File \u001b[1;32mc:\\Users\\JoeCockings\\OneDrive - Finbourne Technology Limited\\Repos\\fbn-joe\\.venv\\Lib\\site-packages\\lusid\\utilities\\api_client_factory.py:66\u001b[0m, in \u001b[0;36mApiClientFactory.__init__\u001b[1;34m(self, **kwargs)\u001b[0m\n\u001b[0;32m     63\u001b[0m builder_kwargs[\u001b[38;5;124m\"\u001b[39m\u001b[38;5;124mtcp_keep_alive\u001b[39m\u001b[38;5;124m\"\u001b[39m] \u001b[38;5;241m=\u001b[39m kwargs\u001b[38;5;241m.\u001b[39mget(\u001b[38;5;124m\"\u001b[39m\u001b[38;5;124mtcp_keep_alive\u001b[39m\u001b[38;5;124m\"\u001b[39m, \u001b[38;5;28;01mFalse\u001b[39;00m)\n\u001b[0;32m     65\u001b[0m \u001b[38;5;66;03m# Call the client builder, this will result in using either a token, secrets file or environment variables\u001b[39;00m\n\u001b[1;32m---> 66\u001b[0m \u001b[38;5;28mself\u001b[39m\u001b[38;5;241m.\u001b[39mapi_client \u001b[38;5;241m=\u001b[39m \u001b[43mApiClientBuilder\u001b[49m\u001b[38;5;241;43m.\u001b[39;49m\u001b[43mbuild\u001b[49m\u001b[43m(\u001b[49m\u001b[38;5;241;43m*\u001b[39;49m\u001b[38;5;241;43m*\u001b[39;49m\u001b[43mbuilder_kwargs\u001b[49m\u001b[43m)\u001b[49m\n",
      "File \u001b[1;32mc:\\Users\\JoeCockings\\OneDrive - Finbourne Technology Limited\\Repos\\fbn-joe\\.venv\\Lib\\site-packages\\lusid\\utilities\\api_client_builder.py:115\u001b[0m, in \u001b[0;36mApiClientBuilder.build\u001b[1;34m(cls, api_secrets_filename, id_provider_response_handler, api_configuration, token, correlation_id, tcp_keep_alive)\u001b[0m\n\u001b[0;32m    112\u001b[0m         \u001b[38;5;28;01mif\u001b[39;00m value \u001b[38;5;129;01mis\u001b[39;00m \u001b[38;5;129;01mnot\u001b[39;00m \u001b[38;5;28;01mNone\u001b[39;00m:\n\u001b[0;32m    113\u001b[0m             \u001b[38;5;28msetattr\u001b[39m(configuration, key, value)\n\u001b[1;32m--> 115\u001b[0m api_token \u001b[38;5;241m=\u001b[39m \u001b[38;5;28;43mcls\u001b[39;49m\u001b[38;5;241;43m.\u001b[39;49m\u001b[43mresolve_api_token\u001b[49m\u001b[43m(\u001b[49m\u001b[43mtoken\u001b[49m\u001b[43m,\u001b[49m\u001b[43m \u001b[49m\u001b[43mconfiguration\u001b[49m\u001b[43m,\u001b[49m\u001b[43m \u001b[49m\u001b[43mid_provider_response_handler\u001b[49m\u001b[43m)\u001b[49m\n\u001b[0;32m    117\u001b[0m \u001b[38;5;66;03m# Initialise the API client using the token so that it can be included in all future requests\u001b[39;00m\n\u001b[0;32m    118\u001b[0m config \u001b[38;5;241m=\u001b[39m Configuration(tcp_keep_alive\u001b[38;5;241m=\u001b[39mtcp_keep_alive)\n",
      "File \u001b[1;32mc:\\Users\\JoeCockings\\OneDrive - Finbourne Technology Limited\\Repos\\fbn-joe\\.venv\\Lib\\site-packages\\lusid\\utilities\\api_client_builder.py:75\u001b[0m, in \u001b[0;36mApiClientBuilder.resolve_api_token\u001b[1;34m(cls, token, configuration, id_provider_response_handler)\u001b[0m\n\u001b[0;32m     70\u001b[0m     api_token \u001b[38;5;241m=\u001b[39m configuration\u001b[38;5;241m.\u001b[39maccess_token\n\u001b[0;32m     72\u001b[0m \u001b[38;5;66;03m# Otherwise generate an access token from Okta and use a RefreshingToken going forward\u001b[39;00m\n\u001b[0;32m     73\u001b[0m \u001b[38;5;28;01melse\u001b[39;00m:\n\u001b[0;32m     74\u001b[0m     \u001b[38;5;66;03m# Check that all the required fields for generating a token exist\u001b[39;00m\n\u001b[1;32m---> 75\u001b[0m     \u001b[38;5;28;43mcls\u001b[39;49m\u001b[38;5;241;43m.\u001b[39;49m\u001b[43m__check_required_fields\u001b[49m\u001b[43m(\u001b[49m\u001b[43mconfiguration\u001b[49m\u001b[43m,\u001b[49m\u001b[43m \u001b[49m\u001b[43m[\u001b[49m\n\u001b[0;32m     76\u001b[0m \u001b[43m        \u001b[49m\u001b[38;5;124;43m\"\u001b[39;49m\u001b[38;5;124;43mapi_url\u001b[39;49m\u001b[38;5;124;43m\"\u001b[39;49m\u001b[43m,\u001b[49m\n\u001b[0;32m     77\u001b[0m \u001b[43m        \u001b[49m\u001b[38;5;124;43m\"\u001b[39;49m\u001b[38;5;124;43mpassword\u001b[39;49m\u001b[38;5;124;43m\"\u001b[39;49m\u001b[43m,\u001b[49m\n\u001b[0;32m     78\u001b[0m \u001b[43m        \u001b[49m\u001b[38;5;124;43m\"\u001b[39;49m\u001b[38;5;124;43musername\u001b[39;49m\u001b[38;5;124;43m\"\u001b[39;49m\u001b[43m,\u001b[49m\n\u001b[0;32m     79\u001b[0m \u001b[43m        \u001b[49m\u001b[38;5;124;43m\"\u001b[39;49m\u001b[38;5;124;43mclient_id\u001b[39;49m\u001b[38;5;124;43m\"\u001b[39;49m\u001b[43m,\u001b[49m\n\u001b[0;32m     80\u001b[0m \u001b[43m        \u001b[49m\u001b[38;5;124;43m\"\u001b[39;49m\u001b[38;5;124;43mclient_secret\u001b[39;49m\u001b[38;5;124;43m\"\u001b[39;49m\u001b[43m,\u001b[49m\n\u001b[0;32m     81\u001b[0m \u001b[43m        \u001b[49m\u001b[38;5;124;43m\"\u001b[39;49m\u001b[38;5;124;43mtoken_url\u001b[39;49m\u001b[38;5;124;43m\"\u001b[39;49m\u001b[43m]\u001b[49m\u001b[43m)\u001b[49m\n\u001b[0;32m     83\u001b[0m     \u001b[38;5;66;03m# Generate an access token\u001b[39;00m\n\u001b[0;32m     84\u001b[0m     api_token \u001b[38;5;241m=\u001b[39m RefreshingToken(\n\u001b[0;32m     85\u001b[0m         api_configuration\u001b[38;5;241m=\u001b[39mconfiguration,\n\u001b[0;32m     86\u001b[0m         id_provider_response_handler\u001b[38;5;241m=\u001b[39mid_provider_response_handler\n\u001b[0;32m     87\u001b[0m     )\n",
      "File \u001b[1;32mc:\\Users\\JoeCockings\\OneDrive - Finbourne Technology Limited\\Repos\\fbn-joe\\.venv\\Lib\\site-packages\\lusid\\utilities\\api_client_builder.py:33\u001b[0m, in \u001b[0;36mApiClientBuilder.__check_required_fields\u001b[1;34m(object_to_check, fields)\u001b[0m\n\u001b[0;32m     31\u001b[0m \u001b[38;5;66;03m# Raise an error if any fields have a value of None\u001b[39;00m\n\u001b[0;32m     32\u001b[0m \u001b[38;5;28;01mif\u001b[39;00m \u001b[38;5;28mlen\u001b[39m(missing_fields) \u001b[38;5;241m>\u001b[39m \u001b[38;5;241m0\u001b[39m:\n\u001b[1;32m---> 33\u001b[0m     \u001b[38;5;28;01mraise\u001b[39;00m \u001b[38;5;167;01mValueError\u001b[39;00m(\n\u001b[0;32m     34\u001b[0m         \u001b[38;5;124mf\u001b[39m\u001b[38;5;124m\"\u001b[39m\u001b[38;5;124mThe fields \u001b[39m\u001b[38;5;132;01m{\u001b[39;00m\u001b[38;5;28mstr\u001b[39m(missing_fields)\u001b[38;5;132;01m}\u001b[39;00m\u001b[38;5;124m on the \u001b[39m\u001b[38;5;132;01m{\u001b[39;00mobject_to_check\u001b[38;5;241m.\u001b[39m\u001b[38;5;18m__class__\u001b[39m\u001b[38;5;241m.\u001b[39m\u001b[38;5;18m__name__\u001b[39m\u001b[38;5;132;01m}\u001b[39;00m\u001b[38;5;124m are set to None, \u001b[39m\u001b[38;5;124m\"\u001b[39m\n\u001b[0;32m     35\u001b[0m         \u001b[38;5;124mf\u001b[39m\u001b[38;5;124m\"\u001b[39m\u001b[38;5;124mplease ensure that you have provided them directly, via a secrets file or environment \u001b[39m\u001b[38;5;124m\"\u001b[39m\n\u001b[0;32m     36\u001b[0m         \u001b[38;5;124mf\u001b[39m\u001b[38;5;124m\"\u001b[39m\u001b[38;5;124mvariables\u001b[39m\u001b[38;5;124m\"\u001b[39m)\n",
      "\u001b[1;31mValueError\u001b[0m: The fields ['api_url', 'password', 'username', 'client_id', 'client_secret', 'token_url'] on the ApiConfiguration are set to None, please ensure that you have provided them directly, via a secrets file or environment variables"
     ]
    }
   ],
   "source": [
    "# Set up LUSID\n",
    "import os\n",
    "import pandas as pd\n",
    "import json\n",
    "import uuid\n",
    "import pytz\n",
    "from IPython.core.display import HTML\n",
    "from datetime import datetime, timedelta\n",
    "\n",
    "import logging\n",
    "logging.basicConfig(level=logging.INFO)\n",
    "\n",
    "import lusid as lu\n",
    "import lusid.api as la\n",
    "import lusid.models as lm\n",
    "\n",
    "from lusid.utilities import ApiClientFactory\n",
    "from lusidjam import RefreshingToken\n",
    "from lusidtools.pandas_utils.lusid_pandas import lusid_response_to_data_frame\n",
    "from lusidtools.jupyter_tools import StopExecution\n",
    "from lusidtools.lpt.lpt import to_date\n",
    "\n",
    "# Set pandas display options\n",
    "pd.set_option(\"display.max_columns\", None)\n",
    "pd.set_option(\"display.max_rows\", None)\n",
    "pd.options.display.float_format = \"{:,.2f}\".format\n",
    "\n",
    "# Authenticate to SDK\n",
    "# Run the Notebook in Jupyterhub for your LUSID domain and authenticate automatically\n",
    "secrets_path = os.getenv(\"FBN_SECRETS_PATH\")\n",
    "\n",
    "print(f'Secrets path is {secrets_path}')\n",
    "\n",
    "# Run the Notebook locally using a secrets file (see https://support.lusid.com/knowledgebase/article/KA-01663)\n",
    "if secrets_path is None:\n",
    "    secrets_path = os.path.join(os.path.dirname(os.getcwd()), \"secrets.json\")\n",
    "\n",
    "api_factory = ApiClientFactory(\n",
    "    token=RefreshingToken(),\n",
    "    api_secrets_filename=secrets_path,\n",
    "    app_name=\"VSCode\"\n",
    ")\n",
    "\n",
    "print('LUSID Environment Initialised')\n",
    "print('API Version: ', api_factory.build(\n",
    "    la.ApplicationMetadataApi).get_lusid_versions().build_version)\n",
    "\n",
    "# Build property request models.\n",
    "property_definition_api = api_factory.build(la.PropertyDefinitionsApi)\n",
    "\n",
    "last_valuation_def_file = open('instrument/LastValuationAmount.json')\n",
    "\n",
    "data = json.load(last_valuation_def_file)\n",
    "\n",
    "print(data)\n",
    "\n",
    "#last_valuation_amount_def_request = \n",
    "\n",
    "\n",
    "\"\"\"\n",
    "# Attempt to create a SHK definition.\n",
    "try:\n",
    "    create_shk = property_definition_api.create_property_definition(\n",
    "        create_property_definition_request = models.CreatePropertyDefinitionRequest(\n",
    "            domain = \"Transaction\",\n",
    "            scope = scope,\n",
    "            code = \"strategy\",\n",
    "            display_name = \"Strategy\",\n",
    "            data_type_id = models.ResourceId(\n",
    "                scope = \"system\",\n",
    "                code = \"string\",\n",
    "            ),\n",
    "            life_time = \"Perpetual\",\n",
    "            property_description = \"Strategy of the trade\",\n",
    "        )\n",
    "    )\n",
    "    \n",
    "    print(create_shk)\n",
    "\n",
    "except lusid.ApiException as e:\n",
    "    print(e)\n",
    "    print(json.loads(e.body)[\"title\"])\n",
    "\"\"\""
   ]
  }
 ],
 "metadata": {
  "kernelspec": {
   "display_name": ".venv",
   "language": "python",
   "name": "python3"
  },
  "language_info": {
   "codemirror_mode": {
    "name": "ipython",
    "version": 3
   },
   "file_extension": ".py",
   "mimetype": "text/x-python",
   "name": "python",
   "nbconvert_exporter": "python",
   "pygments_lexer": "ipython3",
   "version": "3.12.3"
  }
 },
 "nbformat": 4,
 "nbformat_minor": 2
}
