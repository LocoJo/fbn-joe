{
 "cells": [
  {
   "cell_type": "code",
   "execution_count": 1,
   "metadata": {},
   "outputs": [
    {
     "name": "stdout",
     "output_type": "stream",
     "text": [
      "LUSID Environment Initialised\n",
      "API Version:  0.6.13267.0\n"
     ]
    },
    {
     "ename": "AttributeError",
     "evalue": "module 'lusid_workflow' has no attribute 'extensions'",
     "output_type": "error",
     "traceback": [
      "\u001b[1;31m---------------------------------------------------------------------------\u001b[0m",
      "\u001b[1;31mAttributeError\u001b[0m                            Traceback (most recent call last)",
      "Cell \u001b[1;32mIn[1], line 49\u001b[0m\n\u001b[0;32m     46\u001b[0m \u001b[38;5;28mprint\u001b[39m(\u001b[38;5;124m'\u001b[39m\u001b[38;5;124mLUSID Environment Initialised\u001b[39m\u001b[38;5;124m'\u001b[39m)\n\u001b[0;32m     47\u001b[0m \u001b[38;5;28mprint\u001b[39m(\u001b[38;5;124m'\u001b[39m\u001b[38;5;124mAPI Version: \u001b[39m\u001b[38;5;124m'\u001b[39m, lusid_api_factory\u001b[38;5;241m.\u001b[39mbuild(la\u001b[38;5;241m.\u001b[39mApplicationMetadataApi)\u001b[38;5;241m.\u001b[39mget_lusid_versions()\u001b[38;5;241m.\u001b[39mbuild_version)\n\u001b[1;32m---> 49\u001b[0m wf_api_factory \u001b[38;5;241m=\u001b[39m \u001b[43mwf\u001b[49m\u001b[38;5;241;43m.\u001b[39;49m\u001b[43mextensions\u001b[49m\u001b[38;5;241m.\u001b[39mApiClientFactory(\n\u001b[0;32m     50\u001b[0m     token\u001b[38;5;241m=\u001b[39mRefreshingToken(),\n\u001b[0;32m     51\u001b[0m     api_secrets_filename\u001b[38;5;241m=\u001b[39msecrets_path,\n\u001b[0;32m     52\u001b[0m     app_name\u001b[38;5;241m=\u001b[39m\u001b[38;5;124m\"\u001b[39m\u001b[38;5;124mVSCode\u001b[39m\u001b[38;5;124m\"\u001b[39m\n\u001b[0;32m     53\u001b[0m )\n\u001b[0;32m     55\u001b[0m \u001b[38;5;66;03m# Define scope\u001b[39;00m\n\u001b[0;32m     56\u001b[0m scope \u001b[38;5;241m=\u001b[39m \u001b[38;5;124m\"\u001b[39m\u001b[38;5;124mdefault\u001b[39m\u001b[38;5;124m\"\u001b[39m\n",
      "\u001b[1;31mAttributeError\u001b[0m: module 'lusid_workflow' has no attribute 'extensions'"
     ]
    }
   ],
   "source": [
    "import lusid_workflow as wf\n",
    "import lusid_workflow.models as wf_models\n",
    "from lusid_workflow.models import *\n",
    "from lusid_workflow.rest import ApiException\n",
    "from lusidjam.refreshing_token import RefreshingToken\n",
    "\n",
    "configuration = wf.Configuration(\n",
    "    host=\"https://fbn-joe.lusid.com/workflow\")\n",
    "\n",
    "configuration.access_token = RefreshingToken()\n",
    "\n",
    "api_client = wf.ApiClient(configuration)\n",
    "\n",
    "task_def_api = wf.TaskDefinitionsApi(api_client)\n",
    "task_api = wf.TasksApi(api_client)\n",
    "worker_api = wf.WorkersApi(api_client)\n",
    "event_handler_api = wf.EventHandlersApi(api_client)\n",
    "\n",
    "print(\"Workflow API configuration initialised\")\n",
    "\n",
    "scope = \"Demo_workflow_valuation\"\n",
    "event_handler_name = \"Instrument Valuation EventHander\"\n",
    "event_handler_code = ''.join(event_handler_name.split())\n",
    "initial_status = \"Active\"\n",
    "event_type = \"InstrumentUpdated\"\n",
    "task_user = \"joe.cockings.service@finbourne.com\"\n",
    "task_activity_type = \"CreateNewTask\"\n",
    "initial_trigger = \"initial-trigger\"\n",
    "\n",
    "# Default relevant portfolio.\n",
    "portfolio_code = \"JC_UK\"\n",
    "portfolio_scope = \"Demo2\"\n",
    "LUID = \"LUID_00003D9I\"\n",
    "\n",
    "# Associated task to be triggered.\n",
    "task_definition_id = \"Valuation\"\n",
    "\n",
    "event_matching_pattern = wf_models.EventMatchingPattern(\n",
    "    event_type = event_type,\n",
    "    #filter = filter #Can add a filter later.\n",
    ")"
   ]
  },
  {
   "cell_type": "code",
   "execution_count": null,
   "metadata": {},
   "outputs": [],
   "source": [
    "try:\n",
    "    instrument_event_handler_response = event_handler_api.create_event_handler(\n",
    "        wf_models.CreateEventHandlerRequest(\n",
    "            id=wf_models.ResourceId(\n",
    "                scope = scope,\n",
    "                code = event_handler_code\n",
    "            ),\n",
    "            display_name = event_handler_name,\n",
    "            description = event_handler_name,\n",
    "            status = initial_status,\n",
    "            event_matching_pattern = event_matching_pattern,\n",
    "            run_as_user_id = wf_models.EventHandlerMapping(\n",
    "                set_to = task_user\n",
    "            ),\n",
    "            task_definition_id = wf_models.ResourceId(\n",
    "                scope = scope,\n",
    "                code = task_definition_id\n",
    "            ),\n",
    "            task_activity = wf_models.TaskActivity(\n",
    "                type = task_activity_type,\n",
    "                task_fields = {\n",
    "                    \"portfolio_scope\": wf_models.FieldMapping(\n",
    "                        set_to = portfolio_scope\n",
    "                    ),\n",
    "                    \"portfolio_code\": wf_models.FieldMapping(\n",
    "                        set_to = portfolio_code\n",
    "                    ),\n",
    "                    \"LUID\": wf_models.FieldMapping(\n",
    "                        set_to = LUID\n",
    "                    )\n",
    "                },\n",
    "                initial_trigger = initial_trigger,\n",
    "                trigger = initial_trigger\n",
    "            )\n",
    "        )\n",
    "    )\n",
    "\n",
    "except ApiException as e:\n",
    "    print(\"Exception when calling EventHandlersApi->create_event_handler: %s\\n\" % e)"
   ]
  },
  {
   "cell_type": "code",
   "execution_count": null,
   "metadata": {},
   "outputs": [],
   "source": []
  }
 ],
 "metadata": {
  "kernelspec": {
   "display_name": ".venv",
   "language": "python",
   "name": "python3"
  },
  "language_info": {
   "codemirror_mode": {
    "name": "ipython",
    "version": 3
   },
   "file_extension": ".py",
   "mimetype": "text/x-python",
   "name": "python",
   "nbconvert_exporter": "python",
   "pygments_lexer": "ipython3",
   "version": "3.12.3"
  }
 },
 "nbformat": 4,
 "nbformat_minor": 2
}
