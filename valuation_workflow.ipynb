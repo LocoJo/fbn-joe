{
 "cells": [
  {
   "cell_type": "code",
   "execution_count": 2,
   "metadata": {},
   "outputs": [],
   "source": [
    "\"\"\"\n",
    "This workflow will consist of 3 distinct task definitions:\n",
    " - ultimate partent task will maintain the flow of the overall state of the task\n",
    " - another task will manage the validation state/workflow for different data elements:\n",
    "    - transaction\n",
    "    - quote\n",
    " - another task will manage the workflow of each individual validation/default process for each of the data elements required... possible\n",
    " to use a single task definition for both txn and quote validation processes and select the action depending on field variable of the task?\n",
    "\n",
    "Pre-requisites:\n",
    " - transaction portfolio to be in place\n",
    " - instrument for the workflow to be defined.\n",
    " - recipe to be defined.\n",
    "\n",
    "dependencies\n",
    " - transaction check worker\n",
    " - transaction default worker\n",
    " - quote check worker\n",
    " - quote default worker\n",
    "\"\"\"\n",
    "# Set up\n",
    "import os\n",
    "import pandas as pd\n",
    "import json\n",
    "import uuid\n",
    "import pytz\n",
    "from datetime import timedelta\n",
    "import datetime\n",
    "import pprint\n",
    "\n",
    "# API definitions\n",
    "import lusid_workflow as wf\n",
    "import lusid_workflow.models as wf_models\n",
    "from lusid_workflow.models import *\n",
    "from lusid_workflow.rest import ApiException\n",
    "from lusidjam.refreshing_token import RefreshingToken\n",
    "\n",
    "import logging\n",
    "logging.basicConfig(level=logging.DEBUG)\n",
    "logger = logging.getLogger(__name__)\n",
    "\n",
    "\n",
    "configuration = wf.Configuration(\n",
    "    host=\"https://fbn-joe.lusid.com/workflow\")\n",
    "# note this doesn't really work locally yet, there's a change waiting to be merged to workflow SDK to enable that\n",
    "# until then, upload to hosted jupyter server which will handle auth\n",
    "configuration.access_token = RefreshingToken()\n",
    "\n",
    "api_client = wf.ApiClient(configuration)\n",
    "\n",
    "task_def_api = wf.TaskDefinitionsApi(api_client)\n",
    "task_api = wf.TasksApi(api_client)\n",
    "worker_api = wf.WorkersApi(api_client)\n",
    "\n",
    "scope = \"Demo_workflow_valuation\"\n"
   ]
  },
  {
   "cell_type": "code",
   "execution_count": 3,
   "metadata": {},
   "outputs": [
    {
     "name": "stderr",
     "output_type": "stream",
     "text": [
      "c:\\Users\\JoeCockings\\Repos\\fbn-joe\\.venv\\Lib\\site-packages\\lusid_workflow\\api\\task_definitions_api.py:301: SyntaxWarning: invalid escape sequence '\\-'\n",
      "  raise ApiValueError(\"Invalid value for parameter `scope` when calling `delete_task_definition`, must conform to the pattern `/^[a-zA-Z0-9\\-_]+$/`\")  # noqa: E501\n",
      "c:\\Users\\JoeCockings\\Repos\\fbn-joe\\.venv\\Lib\\site-packages\\lusid_workflow\\api\\task_definitions_api.py:309: SyntaxWarning: invalid escape sequence '\\-'\n",
      "  raise ApiValueError(\"Invalid value for parameter `code` when calling `delete_task_definition`, must conform to the pattern `/^[a-zA-Z0-9\\-_]+$/`\")  # noqa: E501\n",
      "c:\\Users\\JoeCockings\\Repos\\fbn-joe\\.venv\\Lib\\site-packages\\lusid_workflow\\api\\task_definitions_api.py:476: SyntaxWarning: invalid escape sequence '\\-'\n",
      "  raise ApiValueError(\"Invalid value for parameter `scope` when calling `get_task_definition`, must conform to the pattern `/^[a-zA-Z0-9\\-_]+$/`\")  # noqa: E501\n",
      "c:\\Users\\JoeCockings\\Repos\\fbn-joe\\.venv\\Lib\\site-packages\\lusid_workflow\\api\\task_definitions_api.py:484: SyntaxWarning: invalid escape sequence '\\-'\n",
      "  raise ApiValueError(\"Invalid value for parameter `code` when calling `get_task_definition`, must conform to the pattern `/^[a-zA-Z0-9\\-_]+$/`\")  # noqa: E501\n",
      "c:\\Users\\JoeCockings\\Repos\\fbn-joe\\.venv\\Lib\\site-packages\\lusid_workflow\\api\\task_definitions_api.py:655: SyntaxWarning: invalid escape sequence '\\s'\n",
      "  raise ApiValueError(\"Invalid value for parameter `filter` when calling `list_task_definitions`, must conform to the pattern `/^[\\s\\S]*$/`\")  # noqa: E501\n",
      "c:\\Users\\JoeCockings\\Repos\\fbn-joe\\.venv\\Lib\\site-packages\\lusid_workflow\\api\\task_definitions_api.py:663: SyntaxWarning: invalid escape sequence '\\+'\n",
      "  raise ApiValueError(\"Invalid value for parameter `page` when calling `list_task_definitions`, must conform to the pattern `/^[a-zA-Z0-9\\+\\/]*={0,3}$/`\")  # noqa: E501\n",
      "c:\\Users\\JoeCockings\\Repos\\fbn-joe\\.venv\\Lib\\site-packages\\lusid_workflow\\api\\task_definitions_api.py:837: SyntaxWarning: invalid escape sequence '\\-'\n",
      "  raise ApiValueError(\"Invalid value for parameter `scope` when calling `list_tasks_for_task_definition`, must conform to the pattern `/^[a-zA-Z0-9\\-_]+$/`\")  # noqa: E501\n",
      "c:\\Users\\JoeCockings\\Repos\\fbn-joe\\.venv\\Lib\\site-packages\\lusid_workflow\\api\\task_definitions_api.py:845: SyntaxWarning: invalid escape sequence '\\-'\n",
      "  raise ApiValueError(\"Invalid value for parameter `code` when calling `list_tasks_for_task_definition`, must conform to the pattern `/^[a-zA-Z0-9\\-_]+$/`\")  # noqa: E501\n",
      "c:\\Users\\JoeCockings\\Repos\\fbn-joe\\.venv\\Lib\\site-packages\\lusid_workflow\\api\\task_definitions_api.py:1018: SyntaxWarning: invalid escape sequence '\\-'\n",
      "  raise ApiValueError(\"Invalid value for parameter `scope` when calling `update_task_definition`, must conform to the pattern `/^[a-zA-Z0-9\\-_]+$/`\")  # noqa: E501\n",
      "c:\\Users\\JoeCockings\\Repos\\fbn-joe\\.venv\\Lib\\site-packages\\lusid_workflow\\api\\task_definitions_api.py:1026: SyntaxWarning: invalid escape sequence '\\-'\n",
      "  raise ApiValueError(\"Invalid value for parameter `code` when calling `update_task_definition`, must conform to the pattern `/^[a-zA-Z0-9\\-_]+$/`\")  # noqa: E501\n"
     ]
    },
    {
     "ename": "TypeError",
     "evalue": "can only concatenate str (not \"NoneType\") to str",
     "output_type": "error",
     "traceback": [
      "\u001b[1;31m---------------------------------------------------------------------------\u001b[0m",
      "\u001b[1;31mTypeError\u001b[0m                                 Traceback (most recent call last)",
      "Cell \u001b[1;32mIn[3], line 7\u001b[0m\n\u001b[0;32m      5\u001b[0m task_definition\n\u001b[0;32m      6\u001b[0m \u001b[38;5;28;01mtry\u001b[39;00m:\n\u001b[1;32m----> 7\u001b[0m     create_task_definition_request \u001b[38;5;241m=\u001b[39m \u001b[43mtask_def_api\u001b[49m\u001b[38;5;241;43m.\u001b[39;49m\u001b[43mcreate_task_definition\u001b[49m\u001b[43m(\u001b[49m\u001b[43mtask_definition\u001b[49m\u001b[43m)\u001b[49m\n\u001b[0;32m      8\u001b[0m     logger\u001b[38;5;241m.\u001b[39minfo(\u001b[38;5;124m\"\u001b[39m\u001b[38;5;124mCreated task definition for task \u001b[39m\u001b[38;5;132;01m{}\u001b[39;00m\u001b[38;5;124m\"\u001b[39m)\n\u001b[0;32m     10\u001b[0m \u001b[38;5;28;01mexcept\u001b[39;00m ApiException \u001b[38;5;28;01mas\u001b[39;00m e:\n",
      "File \u001b[1;32mc:\\Users\\JoeCockings\\Repos\\fbn-joe\\.venv\\Lib\\site-packages\\lusid_workflow\\api\\task_definitions_api.py:75\u001b[0m, in \u001b[0;36mTaskDefinitionsApi.create_task_definition\u001b[1;34m(self, create_task_definition_request, **kwargs)\u001b[0m\n\u001b[0;32m     49\u001b[0m \u001b[38;5;250m\u001b[39m\u001b[38;5;124;03m\"\"\"[EXPERIMENTAL] CreateTaskDefinition: Create a new Task Definition  # noqa: E501\u001b[39;00m\n\u001b[0;32m     50\u001b[0m \n\u001b[0;32m     51\u001b[0m \u001b[38;5;124;03mThis method makes a synchronous HTTP request by default. To make an\u001b[39;00m\n\u001b[1;32m   (...)\u001b[0m\n\u001b[0;32m     72\u001b[0m \u001b[38;5;124;03m:rtype: TaskDefinition\u001b[39;00m\n\u001b[0;32m     73\u001b[0m \u001b[38;5;124;03m\"\"\"\u001b[39;00m\n\u001b[0;32m     74\u001b[0m kwargs[\u001b[38;5;124m'\u001b[39m\u001b[38;5;124m_return_http_data_only\u001b[39m\u001b[38;5;124m'\u001b[39m] \u001b[38;5;241m=\u001b[39m \u001b[38;5;28;01mTrue\u001b[39;00m\n\u001b[1;32m---> 75\u001b[0m \u001b[38;5;28;01mreturn\u001b[39;00m \u001b[38;5;28;43mself\u001b[39;49m\u001b[38;5;241;43m.\u001b[39;49m\u001b[43mcreate_task_definition_with_http_info\u001b[49m\u001b[43m(\u001b[49m\u001b[43mcreate_task_definition_request\u001b[49m\u001b[43m,\u001b[49m\u001b[43m \u001b[49m\u001b[38;5;241;43m*\u001b[39;49m\u001b[38;5;241;43m*\u001b[39;49m\u001b[43mkwargs\u001b[49m\u001b[43m)\u001b[49m\n",
      "File \u001b[1;32mc:\\Users\\JoeCockings\\Repos\\fbn-joe\\.venv\\Lib\\site-packages\\lusid_workflow\\api\\task_definitions_api.py:176\u001b[0m, in \u001b[0;36mTaskDefinitionsApi.create_task_definition_with_http_info\u001b[1;34m(self, create_task_definition_request, **kwargs)\u001b[0m\n\u001b[0;32m    169\u001b[0m auth_settings \u001b[38;5;241m=\u001b[39m [\u001b[38;5;124m'\u001b[39m\u001b[38;5;124moauth2\u001b[39m\u001b[38;5;124m'\u001b[39m]  \u001b[38;5;66;03m# noqa: E501\u001b[39;00m\n\u001b[0;32m    171\u001b[0m response_types_map \u001b[38;5;241m=\u001b[39m {\n\u001b[0;32m    172\u001b[0m     \u001b[38;5;241m201\u001b[39m: \u001b[38;5;124m\"\u001b[39m\u001b[38;5;124mTaskDefinition\u001b[39m\u001b[38;5;124m\"\u001b[39m,\n\u001b[0;32m    173\u001b[0m     \u001b[38;5;241m400\u001b[39m: \u001b[38;5;124m\"\u001b[39m\u001b[38;5;124mLusidValidationProblemDetails\u001b[39m\u001b[38;5;124m\"\u001b[39m,\n\u001b[0;32m    174\u001b[0m }\n\u001b[1;32m--> 176\u001b[0m \u001b[38;5;28;01mreturn\u001b[39;00m \u001b[38;5;28;43mself\u001b[39;49m\u001b[38;5;241;43m.\u001b[39;49m\u001b[43mapi_client\u001b[49m\u001b[38;5;241;43m.\u001b[39;49m\u001b[43mcall_api\u001b[49m\u001b[43m(\u001b[49m\n\u001b[0;32m    177\u001b[0m \u001b[43m    \u001b[49m\u001b[38;5;124;43m'\u001b[39;49m\u001b[38;5;124;43m/api/taskdefinitions\u001b[39;49m\u001b[38;5;124;43m'\u001b[39;49m\u001b[43m,\u001b[49m\u001b[43m \u001b[49m\u001b[38;5;124;43m'\u001b[39;49m\u001b[38;5;124;43mPOST\u001b[39;49m\u001b[38;5;124;43m'\u001b[39;49m\u001b[43m,\u001b[49m\n\u001b[0;32m    178\u001b[0m \u001b[43m    \u001b[49m\u001b[43mpath_params\u001b[49m\u001b[43m,\u001b[49m\n\u001b[0;32m    179\u001b[0m \u001b[43m    \u001b[49m\u001b[43mquery_params\u001b[49m\u001b[43m,\u001b[49m\n\u001b[0;32m    180\u001b[0m \u001b[43m    \u001b[49m\u001b[43mheader_params\u001b[49m\u001b[43m,\u001b[49m\n\u001b[0;32m    181\u001b[0m \u001b[43m    \u001b[49m\u001b[43mbody\u001b[49m\u001b[38;5;241;43m=\u001b[39;49m\u001b[43mbody_params\u001b[49m\u001b[43m,\u001b[49m\n\u001b[0;32m    182\u001b[0m \u001b[43m    \u001b[49m\u001b[43mpost_params\u001b[49m\u001b[38;5;241;43m=\u001b[39;49m\u001b[43mform_params\u001b[49m\u001b[43m,\u001b[49m\n\u001b[0;32m    183\u001b[0m \u001b[43m    \u001b[49m\u001b[43mfiles\u001b[49m\u001b[38;5;241;43m=\u001b[39;49m\u001b[43mlocal_var_files\u001b[49m\u001b[43m,\u001b[49m\n\u001b[0;32m    184\u001b[0m \u001b[43m    \u001b[49m\u001b[43mresponse_types_map\u001b[49m\u001b[38;5;241;43m=\u001b[39;49m\u001b[43mresponse_types_map\u001b[49m\u001b[43m,\u001b[49m\n\u001b[0;32m    185\u001b[0m \u001b[43m    \u001b[49m\u001b[43mauth_settings\u001b[49m\u001b[38;5;241;43m=\u001b[39;49m\u001b[43mauth_settings\u001b[49m\u001b[43m,\u001b[49m\n\u001b[0;32m    186\u001b[0m \u001b[43m    \u001b[49m\u001b[43masync_req\u001b[49m\u001b[38;5;241;43m=\u001b[39;49m\u001b[43mlocal_var_params\u001b[49m\u001b[38;5;241;43m.\u001b[39;49m\u001b[43mget\u001b[49m\u001b[43m(\u001b[49m\u001b[38;5;124;43m'\u001b[39;49m\u001b[38;5;124;43masync_req\u001b[39;49m\u001b[38;5;124;43m'\u001b[39;49m\u001b[43m)\u001b[49m\u001b[43m,\u001b[49m\n\u001b[0;32m    187\u001b[0m \u001b[43m    \u001b[49m\u001b[43m_return_http_data_only\u001b[49m\u001b[38;5;241;43m=\u001b[39;49m\u001b[43mlocal_var_params\u001b[49m\u001b[38;5;241;43m.\u001b[39;49m\u001b[43mget\u001b[49m\u001b[43m(\u001b[49m\u001b[38;5;124;43m'\u001b[39;49m\u001b[38;5;124;43m_return_http_data_only\u001b[39;49m\u001b[38;5;124;43m'\u001b[39;49m\u001b[43m)\u001b[49m\u001b[43m,\u001b[49m\u001b[43m  \u001b[49m\u001b[38;5;66;43;03m# noqa: E501\u001b[39;49;00m\n\u001b[0;32m    188\u001b[0m \u001b[43m    \u001b[49m\u001b[43m_preload_content\u001b[49m\u001b[38;5;241;43m=\u001b[39;49m\u001b[43mlocal_var_params\u001b[49m\u001b[38;5;241;43m.\u001b[39;49m\u001b[43mget\u001b[49m\u001b[43m(\u001b[49m\u001b[38;5;124;43m'\u001b[39;49m\u001b[38;5;124;43m_preload_content\u001b[39;49m\u001b[38;5;124;43m'\u001b[39;49m\u001b[43m,\u001b[49m\u001b[43m \u001b[49m\u001b[38;5;28;43;01mTrue\u001b[39;49;00m\u001b[43m)\u001b[49m\u001b[43m,\u001b[49m\n\u001b[0;32m    189\u001b[0m \u001b[43m    \u001b[49m\u001b[43m_request_timeout\u001b[49m\u001b[38;5;241;43m=\u001b[39;49m\u001b[43mlocal_var_params\u001b[49m\u001b[38;5;241;43m.\u001b[39;49m\u001b[43mget\u001b[49m\u001b[43m(\u001b[49m\u001b[38;5;124;43m'\u001b[39;49m\u001b[38;5;124;43m_request_timeout\u001b[39;49m\u001b[38;5;124;43m'\u001b[39;49m\u001b[43m)\u001b[49m\u001b[43m,\u001b[49m\n\u001b[0;32m    190\u001b[0m \u001b[43m    \u001b[49m\u001b[43mcollection_formats\u001b[49m\u001b[38;5;241;43m=\u001b[39;49m\u001b[43mcollection_formats\u001b[49m\u001b[43m,\u001b[49m\n\u001b[0;32m    191\u001b[0m \u001b[43m    \u001b[49m\u001b[43m_request_auth\u001b[49m\u001b[38;5;241;43m=\u001b[39;49m\u001b[43mlocal_var_params\u001b[49m\u001b[38;5;241;43m.\u001b[39;49m\u001b[43mget\u001b[49m\u001b[43m(\u001b[49m\u001b[38;5;124;43m'\u001b[39;49m\u001b[38;5;124;43m_request_auth\u001b[39;49m\u001b[38;5;124;43m'\u001b[39;49m\u001b[43m)\u001b[49m\u001b[43m)\u001b[49m\n",
      "File \u001b[1;32mc:\\Users\\JoeCockings\\Repos\\fbn-joe\\.venv\\Lib\\site-packages\\lusid_workflow\\api_client.py:375\u001b[0m, in \u001b[0;36mApiClient.call_api\u001b[1;34m(self, resource_path, method, path_params, query_params, header_params, body, post_params, files, response_types_map, auth_settings, async_req, _return_http_data_only, collection_formats, _preload_content, _request_timeout, _host, _request_auth)\u001b[0m\n\u001b[0;32m    334\u001b[0m \u001b[38;5;250m\u001b[39m\u001b[38;5;124;03m\"\"\"Makes the HTTP request (synchronous) and returns deserialized data.\u001b[39;00m\n\u001b[0;32m    335\u001b[0m \n\u001b[0;32m    336\u001b[0m \u001b[38;5;124;03mTo make an async_req request, set the async_req parameter.\u001b[39;00m\n\u001b[1;32m   (...)\u001b[0m\n\u001b[0;32m    372\u001b[0m \u001b[38;5;124;03m    then the method will return the response directly.\u001b[39;00m\n\u001b[0;32m    373\u001b[0m \u001b[38;5;124;03m\"\"\"\u001b[39;00m\n\u001b[0;32m    374\u001b[0m \u001b[38;5;28;01mif\u001b[39;00m \u001b[38;5;129;01mnot\u001b[39;00m async_req:\n\u001b[1;32m--> 375\u001b[0m     \u001b[38;5;28;01mreturn\u001b[39;00m \u001b[38;5;28;43mself\u001b[39;49m\u001b[38;5;241;43m.\u001b[39;49m\u001b[43m__call_api\u001b[49m\u001b[43m(\u001b[49m\u001b[43mresource_path\u001b[49m\u001b[43m,\u001b[49m\u001b[43m \u001b[49m\u001b[43mmethod\u001b[49m\u001b[43m,\u001b[49m\n\u001b[0;32m    376\u001b[0m \u001b[43m                           \u001b[49m\u001b[43mpath_params\u001b[49m\u001b[43m,\u001b[49m\u001b[43m \u001b[49m\u001b[43mquery_params\u001b[49m\u001b[43m,\u001b[49m\u001b[43m \u001b[49m\u001b[43mheader_params\u001b[49m\u001b[43m,\u001b[49m\n\u001b[0;32m    377\u001b[0m \u001b[43m                           \u001b[49m\u001b[43mbody\u001b[49m\u001b[43m,\u001b[49m\u001b[43m \u001b[49m\u001b[43mpost_params\u001b[49m\u001b[43m,\u001b[49m\u001b[43m \u001b[49m\u001b[43mfiles\u001b[49m\u001b[43m,\u001b[49m\n\u001b[0;32m    378\u001b[0m \u001b[43m                           \u001b[49m\u001b[43mresponse_types_map\u001b[49m\u001b[43m,\u001b[49m\u001b[43m \u001b[49m\u001b[43mauth_settings\u001b[49m\u001b[43m,\u001b[49m\n\u001b[0;32m    379\u001b[0m \u001b[43m                           \u001b[49m\u001b[43m_return_http_data_only\u001b[49m\u001b[43m,\u001b[49m\u001b[43m \u001b[49m\u001b[43mcollection_formats\u001b[49m\u001b[43m,\u001b[49m\n\u001b[0;32m    380\u001b[0m \u001b[43m                           \u001b[49m\u001b[43m_preload_content\u001b[49m\u001b[43m,\u001b[49m\u001b[43m \u001b[49m\u001b[43m_request_timeout\u001b[49m\u001b[43m,\u001b[49m\u001b[43m \u001b[49m\u001b[43m_host\u001b[49m\u001b[43m,\u001b[49m\n\u001b[0;32m    381\u001b[0m \u001b[43m                           \u001b[49m\u001b[43m_request_auth\u001b[49m\u001b[43m)\u001b[49m\n\u001b[0;32m    383\u001b[0m \u001b[38;5;28;01mreturn\u001b[39;00m \u001b[38;5;28mself\u001b[39m\u001b[38;5;241m.\u001b[39mpool\u001b[38;5;241m.\u001b[39mapply_async(\u001b[38;5;28mself\u001b[39m\u001b[38;5;241m.\u001b[39m__call_api, (resource_path,\n\u001b[0;32m    384\u001b[0m                                                method, path_params,\n\u001b[0;32m    385\u001b[0m                                                query_params,\n\u001b[1;32m   (...)\u001b[0m\n\u001b[0;32m    393\u001b[0m                                                _request_timeout,\n\u001b[0;32m    394\u001b[0m                                                _host, _request_auth))\n",
      "File \u001b[1;32mc:\\Users\\JoeCockings\\Repos\\fbn-joe\\.venv\\Lib\\site-packages\\lusid_workflow\\api_client.py:168\u001b[0m, in \u001b[0;36mApiClient.__call_api\u001b[1;34m(self, resource_path, method, path_params, query_params, header_params, body, post_params, files, response_types_map, auth_settings, _return_http_data_only, collection_formats, _preload_content, _request_timeout, _host, _request_auth)\u001b[0m\n\u001b[0;32m    165\u001b[0m     post_params\u001b[38;5;241m.\u001b[39mextend(\u001b[38;5;28mself\u001b[39m\u001b[38;5;241m.\u001b[39mfiles_parameters(files))\n\u001b[0;32m    167\u001b[0m \u001b[38;5;66;03m# auth setting\u001b[39;00m\n\u001b[1;32m--> 168\u001b[0m \u001b[38;5;28;43mself\u001b[39;49m\u001b[38;5;241;43m.\u001b[39;49m\u001b[43mupdate_params_for_auth\u001b[49m\u001b[43m(\u001b[49m\n\u001b[0;32m    169\u001b[0m \u001b[43m    \u001b[49m\u001b[43mheader_params\u001b[49m\u001b[43m,\u001b[49m\u001b[43m \u001b[49m\u001b[43mquery_params\u001b[49m\u001b[43m,\u001b[49m\u001b[43m \u001b[49m\u001b[43mauth_settings\u001b[49m\u001b[43m,\u001b[49m\n\u001b[0;32m    170\u001b[0m \u001b[43m    \u001b[49m\u001b[43mrequest_auth\u001b[49m\u001b[38;5;241;43m=\u001b[39;49m\u001b[43m_request_auth\u001b[49m\u001b[43m)\u001b[49m\n\u001b[0;32m    172\u001b[0m \u001b[38;5;66;03m# body\u001b[39;00m\n\u001b[0;32m    173\u001b[0m \u001b[38;5;28;01mif\u001b[39;00m body:\n",
      "File \u001b[1;32mc:\\Users\\JoeCockings\\Repos\\fbn-joe\\.venv\\Lib\\site-packages\\lusid_workflow\\api_client.py:566\u001b[0m, in \u001b[0;36mApiClient.update_params_for_auth\u001b[1;34m(self, headers, queries, auth_settings, request_auth)\u001b[0m\n\u001b[0;32m    563\u001b[0m     \u001b[38;5;28;01mreturn\u001b[39;00m\n\u001b[0;32m    565\u001b[0m \u001b[38;5;28;01mfor\u001b[39;00m auth \u001b[38;5;129;01min\u001b[39;00m auth_settings:\n\u001b[1;32m--> 566\u001b[0m     auth_setting \u001b[38;5;241m=\u001b[39m \u001b[38;5;28;43mself\u001b[39;49m\u001b[38;5;241;43m.\u001b[39;49m\u001b[43mconfiguration\u001b[49m\u001b[38;5;241;43m.\u001b[39;49m\u001b[43mauth_settings\u001b[49m\u001b[43m(\u001b[49m\u001b[43m)\u001b[49m\u001b[38;5;241m.\u001b[39mget(auth)\n\u001b[0;32m    567\u001b[0m     \u001b[38;5;28;01mif\u001b[39;00m auth_setting:\n\u001b[0;32m    568\u001b[0m         \u001b[38;5;28mself\u001b[39m\u001b[38;5;241m.\u001b[39m_apply_auth_params(headers, queries, auth_setting)\n",
      "File \u001b[1;32mc:\\Users\\JoeCockings\\Repos\\fbn-joe\\.venv\\Lib\\site-packages\\lusid_workflow\\configuration.py:387\u001b[0m, in \u001b[0;36mConfiguration.auth_settings\u001b[1;34m(self)\u001b[0m\n\u001b[0;32m    381\u001b[0m auth \u001b[38;5;241m=\u001b[39m {}\n\u001b[0;32m    382\u001b[0m \u001b[38;5;28;01mif\u001b[39;00m \u001b[38;5;28mself\u001b[39m\u001b[38;5;241m.\u001b[39maccess_token \u001b[38;5;129;01mis\u001b[39;00m \u001b[38;5;129;01mnot\u001b[39;00m \u001b[38;5;28;01mNone\u001b[39;00m:\n\u001b[0;32m    383\u001b[0m     auth[\u001b[38;5;124m'\u001b[39m\u001b[38;5;124moauth2\u001b[39m\u001b[38;5;124m'\u001b[39m] \u001b[38;5;241m=\u001b[39m {\n\u001b[0;32m    384\u001b[0m         \u001b[38;5;124m'\u001b[39m\u001b[38;5;124mtype\u001b[39m\u001b[38;5;124m'\u001b[39m: \u001b[38;5;124m'\u001b[39m\u001b[38;5;124moauth2\u001b[39m\u001b[38;5;124m'\u001b[39m,\n\u001b[0;32m    385\u001b[0m         \u001b[38;5;124m'\u001b[39m\u001b[38;5;124min\u001b[39m\u001b[38;5;124m'\u001b[39m: \u001b[38;5;124m'\u001b[39m\u001b[38;5;124mheader\u001b[39m\u001b[38;5;124m'\u001b[39m,\n\u001b[0;32m    386\u001b[0m         \u001b[38;5;124m'\u001b[39m\u001b[38;5;124mkey\u001b[39m\u001b[38;5;124m'\u001b[39m: \u001b[38;5;124m'\u001b[39m\u001b[38;5;124mAuthorization\u001b[39m\u001b[38;5;124m'\u001b[39m,\n\u001b[1;32m--> 387\u001b[0m         \u001b[38;5;124m'\u001b[39m\u001b[38;5;124mvalue\u001b[39m\u001b[38;5;124m'\u001b[39m: \u001b[38;5;124;43m'\u001b[39;49m\u001b[38;5;124;43mBearer \u001b[39;49m\u001b[38;5;124;43m'\u001b[39;49m\u001b[43m \u001b[49m\u001b[38;5;241;43m+\u001b[39;49m\u001b[43m \u001b[49m\u001b[38;5;28;43mself\u001b[39;49m\u001b[38;5;241;43m.\u001b[39;49m\u001b[43maccess_token\u001b[49m\n\u001b[0;32m    388\u001b[0m     }\n\u001b[0;32m    389\u001b[0m \u001b[38;5;28;01mreturn\u001b[39;00m auth\n",
      "File \u001b[1;32m~\\AppData\\Local\\Programs\\Python\\Python312\\Lib\\collections\\__init__.py:1423\u001b[0m, in \u001b[0;36mUserString.__radd__\u001b[1;34m(self, other)\u001b[0m\n\u001b[0;32m   1421\u001b[0m \u001b[38;5;28;01mdef\u001b[39;00m \u001b[38;5;21m__radd__\u001b[39m(\u001b[38;5;28mself\u001b[39m, other):\n\u001b[0;32m   1422\u001b[0m     \u001b[38;5;28;01mif\u001b[39;00m \u001b[38;5;28misinstance\u001b[39m(other, \u001b[38;5;28mstr\u001b[39m):\n\u001b[1;32m-> 1423\u001b[0m         \u001b[38;5;28;01mreturn\u001b[39;00m \u001b[38;5;28mself\u001b[39m\u001b[38;5;241m.\u001b[39m\u001b[38;5;18m__class__\u001b[39m(\u001b[43mother\u001b[49m\u001b[43m \u001b[49m\u001b[38;5;241;43m+\u001b[39;49m\u001b[43m \u001b[49m\u001b[38;5;28;43mself\u001b[39;49m\u001b[38;5;241;43m.\u001b[39;49m\u001b[43mdata\u001b[49m)\n\u001b[0;32m   1424\u001b[0m     \u001b[38;5;28;01mreturn\u001b[39;00m \u001b[38;5;28mself\u001b[39m\u001b[38;5;241m.\u001b[39m\u001b[38;5;18m__class__\u001b[39m(\u001b[38;5;28mstr\u001b[39m(other) \u001b[38;5;241m+\u001b[39m \u001b[38;5;28mself\u001b[39m\u001b[38;5;241m.\u001b[39mdata)\n",
      "\u001b[1;31mTypeError\u001b[0m: can only concatenate str (not \"NoneType\") to str"
     ]
    }
   ],
   "source": [
    "# Helper functions.\n",
    "\n",
    "def create_task_definition(scope, code, display_name, description, states, field_schema, initial_state, triggers, transitions, actions):\n",
    "\n",
    "    task_definition = wf_models.CreateTaskDefinitionRequest(\n",
    "        wf_models.ResourceId(\n",
    "            scope,\n",
    "            code\n",
    "            ),\n",
    "        display_name,\n",
    "        description,\n",
    "        states,\n",
    "        field_schema,\n",
    "        initial_state,\n",
    "        triggers,\n",
    "        transitions,\n",
    "        actions\n",
    "        )\n",
    "\n",
    "    try:\n",
    "        create_task_definition_request = task_def_api.create_task_definition(task_definition)\n",
    "        logger.info(\"Created task definition for task: {code}\")\n",
    "\n",
    "    except ApiException as e:\n",
    "        print(f\"Exception raised: {e}\")"
   ]
  },
  {
   "cell_type": "code",
   "execution_count": null,
   "metadata": {},
   "outputs": [],
   "source": [
    "# Task definitions\n",
    "\n",
    "# Ultimate parent task."
   ]
  }
 ],
 "metadata": {
  "kernelspec": {
   "display_name": ".venv",
   "language": "python",
   "name": "python3"
  },
  "language_info": {
   "codemirror_mode": {
    "name": "ipython",
    "version": 3
   },
   "file_extension": ".py",
   "mimetype": "text/x-python",
   "name": "python",
   "nbconvert_exporter": "python",
   "pygments_lexer": "ipython3",
   "version": "3.12.3"
  }
 },
 "nbformat": 4,
 "nbformat_minor": 2
}
